{
  "nbformat": 4,
  "nbformat_minor": 0,
  "metadata": {
    "colab": {
      "provenance": [],
      "authorship_tag": "ABX9TyM5HhmHhLrOJvDVkJi+Wele",
      "include_colab_link": true
    },
    "kernelspec": {
      "name": "python3",
      "display_name": "Python 3"
    },
    "language_info": {
      "name": "python"
    }
  },
  "cells": [
    {
      "cell_type": "markdown",
      "metadata": {
        "id": "view-in-github",
        "colab_type": "text"
      },
      "source": [
        "<a href=\"https://colab.research.google.com/github/xprilion/gcp-documentai-demo/blob/main/GCP_DocumentAI_Demo.ipynb\" target=\"_parent\"><img src=\"https://colab.research.google.com/assets/colab-badge.svg\" alt=\"Open In Colab\"/></a>"
      ]
    },
    {
      "cell_type": "markdown",
      "source": [
        "## Install requisites"
      ],
      "metadata": {
        "id": "J2vV-5ERFg6o"
      }
    },
    {
      "cell_type": "code",
      "execution_count": 1,
      "metadata": {
        "id": "FFL55SOHFIBd"
      },
      "outputs": [],
      "source": [
        "%%capture\n",
        "!pip3 install --upgrade google-cloud-documentai\n",
        "!pip3 install --upgrade google-cloud-storage"
      ]
    },
    {
      "cell_type": "markdown",
      "source": [
        "## Credits\n",
        "\n",
        "A lot of the code presented in this demo is taken from  [Optical Character Recognition (OCR) with Document AI (Python) by Holt Skinner](https://codelabs.developers.google.com/codelabs/docai-ocr-python)."
      ],
      "metadata": {
        "id": "garfV-dNFpIA"
      }
    },
    {
      "cell_type": "markdown",
      "source": [
        "## Import libraries"
      ],
      "metadata": {
        "id": "MSBu7QtKFlbP"
      }
    },
    {
      "cell_type": "code",
      "source": [
        "import re\n",
        "import os\n",
        "from typing import List\n",
        "\n",
        "from google.api_core.client_options import ClientOptions\n",
        "from google.cloud import documentai_v1 as documentai\n",
        "from google.cloud import storage"
      ],
      "metadata": {
        "id": "iawpfRgCFX2t"
      },
      "execution_count": 13,
      "outputs": []
    },
    {
      "cell_type": "code",
      "source": [
        "os.environ['GOOGLE_APPLICATION_CREDENTIALS'] = '/content/key.json' "
      ],
      "metadata": {
        "id": "OGSkhmw7Hk19"
      },
      "execution_count": 14,
      "outputs": []
    },
    {
      "cell_type": "code",
      "source": [
        "PROJECT_ID = \"gcp-adventure-x\"\n",
        "LOCATION = \"us\"  # Format is 'us' or 'eu'\n",
        "PROCESSOR_ID = \"89cd56bc4dfa8269\"  # Create processor in Cloud Console"
      ],
      "metadata": {
        "id": "fg7WlyoaF-xD"
      },
      "execution_count": 15,
      "outputs": []
    },
    {
      "cell_type": "code",
      "source": [
        "# Format 'gs://input_bucket/directory/file.pdf'\n",
        "GCS_INPUT_URI = \"gs://data-in-gcp/pdf/haldane-1932-causes-of-evolution-flat-sample.pdf\"\n",
        "INPUT_MIME_TYPE = \"application/pdf\""
      ],
      "metadata": {
        "id": "-InOy-s1GiVe"
      },
      "execution_count": 16,
      "outputs": []
    },
    {
      "cell_type": "code",
      "source": [
        "# Format 'gs://output_bucket/directory'\n",
        "GCS_OUTPUT_URI = \"gs://data-in-gcp/output\""
      ],
      "metadata": {
        "id": "0NqEx41fGsry"
      },
      "execution_count": 17,
      "outputs": []
    },
    {
      "cell_type": "code",
      "source": [
        "# Instantiates a client\n",
        "docai_client = documentai.DocumentProcessorServiceClient(\n",
        "    client_options=ClientOptions(api_endpoint=f\"{LOCATION}-documentai.googleapis.com\")\n",
        ")"
      ],
      "metadata": {
        "id": "AmkXkMMGG3M8"
      },
      "execution_count": 18,
      "outputs": []
    },
    {
      "cell_type": "code",
      "source": [
        "# The full resource name of the processor, e.g.:\n",
        "# projects/project-id/locations/location/processor/processor-id\n",
        "# You must create new processors in the Cloud Console first\n",
        "RESOURCE_NAME = docai_client.processor_path(PROJECT_ID, LOCATION, PROCESSOR_ID)"
      ],
      "metadata": {
        "id": "LIbyUjHFG84k"
      },
      "execution_count": 19,
      "outputs": []
    },
    {
      "cell_type": "code",
      "source": [
        "# Cloud Storage URI for the Input Document\n",
        "input_document = documentai.GcsDocument(\n",
        "    gcs_uri=GCS_INPUT_URI, mime_type=INPUT_MIME_TYPE\n",
        ")"
      ],
      "metadata": {
        "id": "PLQohTUzHAnn"
      },
      "execution_count": 20,
      "outputs": []
    },
    {
      "cell_type": "code",
      "source": [
        "# Load GCS Input URI into a List of document files\n",
        "input_config = documentai.BatchDocumentsInputConfig(\n",
        "    gcs_documents=documentai.GcsDocuments(documents=[input_document])\n",
        ")"
      ],
      "metadata": {
        "id": "EvqQk98NHCj5"
      },
      "execution_count": 21,
      "outputs": []
    },
    {
      "cell_type": "code",
      "source": [
        "# Cloud Storage URI for Output directory\n",
        "gcs_output_config = documentai.DocumentOutputConfig.GcsOutputConfig(\n",
        "    gcs_uri=GCS_OUTPUT_URI\n",
        ")"
      ],
      "metadata": {
        "id": "3ikYMiN-HEvY"
      },
      "execution_count": 22,
      "outputs": []
    },
    {
      "cell_type": "code",
      "source": [
        "# Load GCS Output URI into OutputConfig object\n",
        "output_config = documentai.DocumentOutputConfig(gcs_output_config=gcs_output_config)"
      ],
      "metadata": {
        "id": "73-pGYxnHGMl"
      },
      "execution_count": 23,
      "outputs": []
    },
    {
      "cell_type": "code",
      "source": [
        "# Configure Process Request\n",
        "request = documentai.BatchProcessRequest(\n",
        "    name=RESOURCE_NAME,\n",
        "    input_documents=input_config,\n",
        "    document_output_config=output_config,\n",
        ")"
      ],
      "metadata": {
        "id": "HfQZwRZWHIQx"
      },
      "execution_count": 24,
      "outputs": []
    },
    {
      "cell_type": "code",
      "source": [
        "# Batch Process returns a Long Running Operation (LRO)\n",
        "operation = docai_client.batch_process_documents(request)"
      ],
      "metadata": {
        "id": "J3B3Qky3HKf8"
      },
      "execution_count": 25,
      "outputs": []
    },
    {
      "cell_type": "code",
      "source": [
        "# Continually polls the operation until it is complete.\n",
        "# This could take some time for larger files\n",
        "# Format: projects/PROJECT_NUMBER/locations/LOCATION/operations/OPERATION_ID\n",
        "print(f\"Waiting for operation {operation.operation.name} to complete...\")\n",
        "operation.result()"
      ],
      "metadata": {
        "colab": {
          "base_uri": "https://localhost:8080/"
        },
        "id": "omr-pEs7HMzq",
        "outputId": "54ad90af-fed8-4bd8-bbfb-b1fa9727f705"
      },
      "execution_count": 26,
      "outputs": [
        {
          "output_type": "stream",
          "name": "stdout",
          "text": [
            "Waiting for operation projects/869337967308/locations/us/operations/4584907330761309997 to complete...\n"
          ]
        },
        {
          "output_type": "execute_result",
          "data": {
            "text/plain": []
          },
          "metadata": {},
          "execution_count": 26
        }
      ]
    },
    {
      "cell_type": "code",
      "source": [
        "print(\"Document processing complete.\")"
      ],
      "metadata": {
        "colab": {
          "base_uri": "https://localhost:8080/"
        },
        "id": "Mwq7Wdy7HwPl",
        "outputId": "680535e0-74cf-4ec1-97ab-41c53ffb1390"
      },
      "execution_count": 27,
      "outputs": [
        {
          "output_type": "stream",
          "name": "stdout",
          "text": [
            "Document processing complete.\n"
          ]
        }
      ]
    },
    {
      "cell_type": "code",
      "source": [
        "# Once the operation is complete,\n",
        "# get output document information from operation metadata\n",
        "metadata = documentai.BatchProcessMetadata(operation.metadata)"
      ],
      "metadata": {
        "id": "1iyJeqI_H31W"
      },
      "execution_count": 28,
      "outputs": []
    },
    {
      "cell_type": "code",
      "source": [
        "if metadata.state != documentai.BatchProcessMetadata.State.SUCCEEDED:\n",
        "    raise ValueError(f\"Batch Process Failed: {metadata.state_message}\")"
      ],
      "metadata": {
        "id": "xmZyZovQH6DE"
      },
      "execution_count": 29,
      "outputs": []
    },
    {
      "cell_type": "code",
      "source": [
        "documents: List[documentai.Document] = []\n",
        "\n",
        "# Storage Client to retrieve the output files from GCS\n",
        "storage_client = storage.Client()"
      ],
      "metadata": {
        "id": "RQlOdtE-H9dY"
      },
      "execution_count": 30,
      "outputs": []
    },
    {
      "cell_type": "code",
      "source": [
        "# One process per Input Document\n",
        "# pylint: disable=not-an-iterable\n",
        "for process in metadata.individual_process_statuses:\n",
        "\n",
        "    # output_gcs_destination format: gs://BUCKET/PREFIX/OPERATION_NUMBER/0\n",
        "    # The GCS API requires the bucket name and URI prefix separately\n",
        "    output_bucket, output_prefix = re.match(\n",
        "        r\"gs://(.*?)/(.*)\", process.output_gcs_destination\n",
        "    ).groups()\n",
        "\n",
        "    # Get List of Document Objects from the Output Bucket\n",
        "    output_blobs = storage_client.list_blobs(output_bucket, prefix=output_prefix)\n",
        "\n",
        "    # DocAI may output multiple JSON files per source file\n",
        "    for blob in output_blobs:\n",
        "        # Document AI should only output JSON files to GCS\n",
        "        if \".json\" not in blob.name:\n",
        "            print(f\"Skipping non-supported file type {blob.name}\")\n",
        "            continue\n",
        "\n",
        "        print(f\"Fetching {blob.name}\")\n",
        "\n",
        "        # Download JSON File and Convert to Document Object\n",
        "        document = documentai.Document.from_json(\n",
        "            blob.download_as_bytes(), ignore_unknown_fields=True\n",
        "        )\n",
        "\n",
        "        documents.append(document)"
      ],
      "metadata": {
        "colab": {
          "base_uri": "https://localhost:8080/"
        },
        "id": "Y1tNotAKID3x",
        "outputId": "78bbe2a5-1c7f-4dcb-94f6-49d22b431561"
      },
      "execution_count": 31,
      "outputs": [
        {
          "output_type": "stream",
          "name": "stdout",
          "text": [
            "Fetching output/4584907330761309997/0/haldane-1932-causes-of-evolution-flat-sample-0.json\n"
          ]
        }
      ]
    },
    {
      "cell_type": "code",
      "source": [
        "# Print Text from all documents\n",
        "# Truncated at 100 characters for brevity\n",
        "for document in documents:\n",
        "    print(document.text[:100])"
      ],
      "metadata": {
        "colab": {
          "base_uri": "https://localhost:8080/"
        },
        "id": "RaM3vnLJII10",
        "outputId": "199f3013-a27e-4ce8-fdca-ba48cb299252"
      },
      "execution_count": 32,
      "outputs": [
        {
          "output_type": "stream",
          "name": "stdout",
          "text": [
            "THE CAUSES OF\n",
            "EVOLUTION\n",
            "CHAPTER I\n",
            "INTRODUCTION\n",
            "\"Darwinism is dead.\"—Any sermon.\n",
            "SEVENTY-TWO years ha\n"
          ]
        }
      ]
    },
    {
      "cell_type": "code",
      "source": [
        "for document in documents:\n",
        "    print(document.text)"
      ],
      "metadata": {
        "colab": {
          "base_uri": "https://localhost:8080/"
        },
        "id": "G4avIICSILvN",
        "outputId": "4d9bb706-3620-4948-fb7b-e5e32d6e4e3d"
      },
      "execution_count": 33,
      "outputs": [
        {
          "output_type": "stream",
          "name": "stdout",
          "text": [
            "THE CAUSES OF\n",
            "EVOLUTION\n",
            "CHAPTER I\n",
            "INTRODUCTION\n",
            "\"Darwinism is dead.\"—Any sermon.\n",
            "SEVENTY-TWO years have now elapsed since Darwin\n",
            "and Wallace (1858) formulated the theory that\n",
            "evolution had occurred largely as a result of natural\n",
            "selection. The doctrine of evolution was not, of\n",
            "course, new. But Lamarck and other eminent bio-\n",
            "logists had failed to convince the scientific world or\n",
            "the general public that evolution had occurred, still\n",
            "less that it had occurred owing to the operation of\n",
            "any particular set of causes. Darwin contrived to\n",
            "carry a considerable measure of conviction on both\n",
            "these points. The result has been that a generation\n",
            "ago most people who believed in evolution held that\n",
            "it had been largely due to natural selection. Nowa-\n",
            "days a certain number of believers in evolution\n",
            "do not regard natural selection as a cause of it,\n",
            "I\n",
            "B\n",
            "THE CAUSES OF EVOLUTION\n",
            "but I think that in general the two beliefs still go\n",
            "together.\n",
            "So close a correlation is rather rare in the history\n",
            "of human thought. For example, men had been\n",
            "aware for ages of the existence of a past history of\n",
            "the human race before Daniel (or the author of the\n",
            "Book of Daniel) made the first attempt to view that\n",
            "history as a whole, and give a summary account of\n",
            "it. (If Daniel had been the first person to persuade\n",
            "thinking men that the past had differed appreciably\n",
            "from the present, it is clear that his particular\n",
            "account of the historical process would have had\n",
            "a greater intellectual influence than it has actually\n",
            "had.) We must therefore carefully distinguish\n",
            "between two quite different doctrines which Darwin\n",
            "popularised, the doctrine of evolution, and that of\n",
            "natural selection. It is quite possible to hold the\n",
            "first and not the second. Similarly with regard to\n",
            "the doctrines of Darwin's great contemporary Marx,\n",
            "it is possible to adopt socialism but not historical\n",
            "materialism.\n",
            "Darwinism has been a subject of embittered con-\n",
            "troversy ever since its inception. The period up\n",
            "till Darwin's death saw a vast mass of criticism.\n",
            "This was mostly an attack on the doctrine of evolu-\n",
            "tion, and was almost entirely devoid of scientific\n",
            "value. The few really pertinent attacks were lost\n",
            "2\n",
            "INTRODUCTION\n",
            "amid a jabber of ecclesiastical bombinations. The\n",
            "criticism was largely dictated by disgust or fear of\n",
            "this doctrine, and it was natural that the majority\n",
            "of scientific men rallied to Darwin's support. By\n",
            "the time of Darwin's death in 1882, Darwinism had\n",
            "become orthodox in biological circles. The next\n",
            "generation saw the beginnings of a more critical\n",
            "attitude among biologists. It was possible to\n",
            "criticise Darwin without being supposed to be sup-\n",
            "porting the literal authenticity of the Book of\n",
            "Genesis. The criticism came from all sides.\n",
            "Palaeontologists, geneticists, embryologists, psycho-\n",
            "logists, and others, found flaws of a more or less\n",
            "serious character in Darwin's statements. But\n",
            "they almost universally accepted evolution as a\n",
            "fact.\n",
            "The rising generation of biologists, to which I\n",
            "belong, may now perhaps claim to make its voice\n",
            "heard. We have this advantage at least over our\n",
            "predecessors, that we get no thrill from attacking\n",
            "either theological or biological orthodoxy; for\n",
            "eminent theologians have accepted evolution and\n",
            "eminent biologists denied natural selection.\n",
            "In this course of lectures I do not propose to argue\n",
            "the case for evolution, which I regard as being quite\n",
            "as well proven as most other historical facts, but\n",
            "to discuss its possible causes, which are certainly\n",
            "3\n",
            "\n"
          ]
        }
      ]
    },
    {
      "cell_type": "code",
      "source": [],
      "metadata": {
        "id": "p6cKwoBgJUNH"
      },
      "execution_count": null,
      "outputs": []
    }
  ]
}